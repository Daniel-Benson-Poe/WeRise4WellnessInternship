{
  "nbformat": 4,
  "nbformat_minor": 0,
  "metadata": {
    "colab": {
      "provenance": [],
      "collapsed_sections": [],
      "authorship_tag": "ABX9TyN1PwtRVulWpQ1k9SddLgj5",
      "include_colab_link": true
    },
    "kernelspec": {
      "name": "python3",
      "display_name": "Python 3"
    },
    "language_info": {
      "name": "python"
    }
  },
  "cells": [
    {
      "cell_type": "markdown",
      "metadata": {
        "id": "view-in-github",
        "colab_type": "text"
      },
      "source": [
        "<a href=\"https://colab.research.google.com/github/Daniel-Benson-Poe/WeRise4WellnessInternship/blob/main/Covid19ClinicalTrial1.ipynb\" target=\"_parent\"><img src=\"https://colab.research.google.com/assets/colab-badge.svg\" alt=\"Open In Colab\"/></a>"
      ]
    },
    {
      "cell_type": "code",
      "execution_count": 1,
      "metadata": {
        "id": "JrbhZ-JwgKpH"
      },
      "outputs": [],
      "source": [
        "import pandas as pd\n",
        "import numpy as np\n",
        "import matplotlib.pyplot as plt\n",
        "import seaborn as sns"
      ]
    },
    {
      "cell_type": "code",
      "source": [
        "!wget https://github.com/Daniel-Benson-Poe/WeRise4WellnessInternship/blob/main/CSC%20Internship/COVID-19%20Studies/Dec2020ToMay2021TrialOfOutcomesInVacinnatedVsUnvaccinated.xlsx?raw=true"
      ],
      "metadata": {
        "colab": {
          "base_uri": "https://localhost:8080/"
        },
        "id": "i_CERIy_gOHV",
        "outputId": "ebdb451f-bd10-4819-ac65-d849709b6fd1"
      },
      "execution_count": 8,
      "outputs": [
        {
          "output_type": "stream",
          "name": "stdout",
          "text": [
            "/bin/bash: get: command not found\n"
          ]
        }
      ]
    },
    {
      "cell_type": "code",
      "source": [
        "!wget https://github.com/Daniel-Benson-Poe/WeRise4WellnessInternship/raw/main/CSC%20Internship/COVID-19%20Studies/Dec2020ToMay2021TrialOfOutcomesInVacinnatedVsUnvaccinated.xlsx"
      ],
      "metadata": {
        "colab": {
          "base_uri": "https://localhost:8080/"
        },
        "id": "Bj2y_xAbhqQM",
        "outputId": "f7aa5ee5-aedf-4840-c95d-21375cb88741"
      },
      "execution_count": 19,
      "outputs": [
        {
          "output_type": "stream",
          "name": "stdout",
          "text": [
            "--2022-11-13 19:49:07--  https://github.com/Daniel-Benson-Poe/WeRise4WellnessInternship/raw/main/CSC%20Internship/COVID-19%20Studies/Dec2020ToMay2021TrialOfOutcomesInVacinnatedVsUnvaccinated.xlsx\n",
            "Resolving github.com (github.com)... 140.82.112.4\n",
            "Connecting to github.com (github.com)|140.82.112.4|:443... connected.\n",
            "HTTP request sent, awaiting response... 302 Found\n",
            "Location: https://raw.githubusercontent.com/Daniel-Benson-Poe/WeRise4WellnessInternship/main/CSC%20Internship/COVID-19%20Studies/Dec2020ToMay2021TrialOfOutcomesInVacinnatedVsUnvaccinated.xlsx [following]\n",
            "--2022-11-13 19:49:07--  https://raw.githubusercontent.com/Daniel-Benson-Poe/WeRise4WellnessInternship/main/CSC%20Internship/COVID-19%20Studies/Dec2020ToMay2021TrialOfOutcomesInVacinnatedVsUnvaccinated.xlsx\n",
            "Resolving raw.githubusercontent.com (raw.githubusercontent.com)... 185.199.110.133, 185.199.111.133, 185.199.108.133, ...\n",
            "Connecting to raw.githubusercontent.com (raw.githubusercontent.com)|185.199.110.133|:443... connected.\n",
            "HTTP request sent, awaiting response... 200 OK\n",
            "Length: 10663 (10K) [application/octet-stream]\n",
            "Saving to: ‘Dec2020ToMay2021TrialOfOutcomesInVacinnatedVsUnvaccinated.xlsx’\n",
            "\n",
            "\r          Dec2020To   0%[                    ]       0  --.-KB/s               \rDec2020ToMay2021Tri 100%[===================>]  10.41K  --.-KB/s    in 0s      \n",
            "\n",
            "2022-11-13 19:49:07 (63.8 MB/s) - ‘Dec2020ToMay2021TrialOfOutcomesInVacinnatedVsUnvaccinated.xlsx’ saved [10663/10663]\n",
            "\n"
          ]
        }
      ]
    },
    {
      "cell_type": "code",
      "source": [
        "df_file = \"Dec2020ToMay2021TrialOfOutcomesInVacinnatedVsUnvaccinated.xlsx\""
      ],
      "metadata": {
        "id": "8ByL4ejTiEat"
      },
      "execution_count": 22,
      "outputs": []
    },
    {
      "cell_type": "code",
      "source": [
        "covid_df = pd.read_excel(df_file, index_col=0)"
      ],
      "metadata": {
        "id": "R4o51jMdim2l"
      },
      "execution_count": 25,
      "outputs": []
    },
    {
      "cell_type": "code",
      "source": [
        "covid_df"
      ],
      "metadata": {
        "colab": {
          "base_uri": "https://localhost:8080/",
          "height": 958
        },
        "id": "UG68N27xi0YD",
        "outputId": "9fe759c4-3d3f-483a-89ac-61144b376501"
      },
      "execution_count": 26,
      "outputs": [
        {
          "output_type": "execute_result",
          "data": {
            "text/plain": [
              "                                  Unvacc  PartialVacc  FullyVacc         Total\n",
              "Baseline                         10880.0        825.0      129.0  11834.000000\n",
              "Mean Age                            52.1         62.5       70.3     53.000000\n",
              "Age STD                             18.2         15.3       16.4     18.200000\n",
              "Female                            5750.0        425.0       69.0   3244.000000\n",
              "Male                              5130.0        400.0       60.0   5590.000000\n",
              "Black or African American         3452.0        198.0       13.0   3663.000000\n",
              "White                             6467.0        559.0      108.0   7134.000000\n",
              "Race Not Reported                  961.0         68.0        8.0   1037.000000\n",
              "Primary Outcome                  10880.0        825.0      129.0  11834.000000\n",
              "Secondary Outcome                  733.0         85.0       16.0    834.000000\n",
              "ICU Admission                      619.0         75.0       14.0    708.000000\n",
              "In-Hospital Mortality              384.0         50.0        8.0    442.000000\n",
              "Required ECMO                        4.0          0.0        0.0      4.000000\n",
              "Renal Replacement Therapy          130.0         14.0        0.0    144.000000\n",
              "Mechanical Ventilation             398.0         42.0        6.0    446.000000\n",
              "Nasal Canula                      2563.0        231.0       38.0   2832.000000\n",
              "High flow oxygen                   656.0         67.0       10.0    733.000000\n",
              "Non-invasive ventilation           428.0         56.0       10.0    494.000000\n",
              "Supplemental Oxygen               4045.0        396.0       64.0   4505.000000\n",
              "Vasopressors                       348.0         45.0        6.0    399.000000\n",
              "Discharged home                   4110.0        368.0       31.0   4509.000000\n",
              "Discharged rehab institute          72.0          7.0        0.0     79.000000\n",
              "Discharged skilled nursing home    514.0         66.0       20.0    600.000000\n",
              "Discharged Hospice                 125.0         21.0        6.0    152.000000\n",
              "Transferred to another facility     50.0          4.0        0.0     54.000000\n",
              "Mean days in hospital                7.2          7.3        7.0      7.166667\n",
              "Hypotension                        348.0         45.0        6.0    399.000000\n",
              "Acute Renal Failure                130.0         14.0        0.0    144.000000\n",
              "Respiratory Insufficiency         4046.0        396.0       64.0   4506.000000"
            ],
            "text/html": [
              "\n",
              "  <div id=\"df-5ec6d7a4-2860-4df6-85f5-3da67e08e266\">\n",
              "    <div class=\"colab-df-container\">\n",
              "      <div>\n",
              "<style scoped>\n",
              "    .dataframe tbody tr th:only-of-type {\n",
              "        vertical-align: middle;\n",
              "    }\n",
              "\n",
              "    .dataframe tbody tr th {\n",
              "        vertical-align: top;\n",
              "    }\n",
              "\n",
              "    .dataframe thead th {\n",
              "        text-align: right;\n",
              "    }\n",
              "</style>\n",
              "<table border=\"1\" class=\"dataframe\">\n",
              "  <thead>\n",
              "    <tr style=\"text-align: right;\">\n",
              "      <th></th>\n",
              "      <th>Unvacc</th>\n",
              "      <th>PartialVacc</th>\n",
              "      <th>FullyVacc</th>\n",
              "      <th>Total</th>\n",
              "    </tr>\n",
              "  </thead>\n",
              "  <tbody>\n",
              "    <tr>\n",
              "      <th>Baseline</th>\n",
              "      <td>10880.0</td>\n",
              "      <td>825.0</td>\n",
              "      <td>129.0</td>\n",
              "      <td>11834.000000</td>\n",
              "    </tr>\n",
              "    <tr>\n",
              "      <th>Mean Age</th>\n",
              "      <td>52.1</td>\n",
              "      <td>62.5</td>\n",
              "      <td>70.3</td>\n",
              "      <td>53.000000</td>\n",
              "    </tr>\n",
              "    <tr>\n",
              "      <th>Age STD</th>\n",
              "      <td>18.2</td>\n",
              "      <td>15.3</td>\n",
              "      <td>16.4</td>\n",
              "      <td>18.200000</td>\n",
              "    </tr>\n",
              "    <tr>\n",
              "      <th>Female</th>\n",
              "      <td>5750.0</td>\n",
              "      <td>425.0</td>\n",
              "      <td>69.0</td>\n",
              "      <td>3244.000000</td>\n",
              "    </tr>\n",
              "    <tr>\n",
              "      <th>Male</th>\n",
              "      <td>5130.0</td>\n",
              "      <td>400.0</td>\n",
              "      <td>60.0</td>\n",
              "      <td>5590.000000</td>\n",
              "    </tr>\n",
              "    <tr>\n",
              "      <th>Black or African American</th>\n",
              "      <td>3452.0</td>\n",
              "      <td>198.0</td>\n",
              "      <td>13.0</td>\n",
              "      <td>3663.000000</td>\n",
              "    </tr>\n",
              "    <tr>\n",
              "      <th>White</th>\n",
              "      <td>6467.0</td>\n",
              "      <td>559.0</td>\n",
              "      <td>108.0</td>\n",
              "      <td>7134.000000</td>\n",
              "    </tr>\n",
              "    <tr>\n",
              "      <th>Race Not Reported</th>\n",
              "      <td>961.0</td>\n",
              "      <td>68.0</td>\n",
              "      <td>8.0</td>\n",
              "      <td>1037.000000</td>\n",
              "    </tr>\n",
              "    <tr>\n",
              "      <th>Primary Outcome</th>\n",
              "      <td>10880.0</td>\n",
              "      <td>825.0</td>\n",
              "      <td>129.0</td>\n",
              "      <td>11834.000000</td>\n",
              "    </tr>\n",
              "    <tr>\n",
              "      <th>Secondary Outcome</th>\n",
              "      <td>733.0</td>\n",
              "      <td>85.0</td>\n",
              "      <td>16.0</td>\n",
              "      <td>834.000000</td>\n",
              "    </tr>\n",
              "    <tr>\n",
              "      <th>ICU Admission</th>\n",
              "      <td>619.0</td>\n",
              "      <td>75.0</td>\n",
              "      <td>14.0</td>\n",
              "      <td>708.000000</td>\n",
              "    </tr>\n",
              "    <tr>\n",
              "      <th>In-Hospital Mortality</th>\n",
              "      <td>384.0</td>\n",
              "      <td>50.0</td>\n",
              "      <td>8.0</td>\n",
              "      <td>442.000000</td>\n",
              "    </tr>\n",
              "    <tr>\n",
              "      <th>Required ECMO</th>\n",
              "      <td>4.0</td>\n",
              "      <td>0.0</td>\n",
              "      <td>0.0</td>\n",
              "      <td>4.000000</td>\n",
              "    </tr>\n",
              "    <tr>\n",
              "      <th>Renal Replacement Therapy</th>\n",
              "      <td>130.0</td>\n",
              "      <td>14.0</td>\n",
              "      <td>0.0</td>\n",
              "      <td>144.000000</td>\n",
              "    </tr>\n",
              "    <tr>\n",
              "      <th>Mechanical Ventilation</th>\n",
              "      <td>398.0</td>\n",
              "      <td>42.0</td>\n",
              "      <td>6.0</td>\n",
              "      <td>446.000000</td>\n",
              "    </tr>\n",
              "    <tr>\n",
              "      <th>Nasal Canula</th>\n",
              "      <td>2563.0</td>\n",
              "      <td>231.0</td>\n",
              "      <td>38.0</td>\n",
              "      <td>2832.000000</td>\n",
              "    </tr>\n",
              "    <tr>\n",
              "      <th>High flow oxygen</th>\n",
              "      <td>656.0</td>\n",
              "      <td>67.0</td>\n",
              "      <td>10.0</td>\n",
              "      <td>733.000000</td>\n",
              "    </tr>\n",
              "    <tr>\n",
              "      <th>Non-invasive ventilation</th>\n",
              "      <td>428.0</td>\n",
              "      <td>56.0</td>\n",
              "      <td>10.0</td>\n",
              "      <td>494.000000</td>\n",
              "    </tr>\n",
              "    <tr>\n",
              "      <th>Supplemental Oxygen</th>\n",
              "      <td>4045.0</td>\n",
              "      <td>396.0</td>\n",
              "      <td>64.0</td>\n",
              "      <td>4505.000000</td>\n",
              "    </tr>\n",
              "    <tr>\n",
              "      <th>Vasopressors</th>\n",
              "      <td>348.0</td>\n",
              "      <td>45.0</td>\n",
              "      <td>6.0</td>\n",
              "      <td>399.000000</td>\n",
              "    </tr>\n",
              "    <tr>\n",
              "      <th>Discharged home</th>\n",
              "      <td>4110.0</td>\n",
              "      <td>368.0</td>\n",
              "      <td>31.0</td>\n",
              "      <td>4509.000000</td>\n",
              "    </tr>\n",
              "    <tr>\n",
              "      <th>Discharged rehab institute</th>\n",
              "      <td>72.0</td>\n",
              "      <td>7.0</td>\n",
              "      <td>0.0</td>\n",
              "      <td>79.000000</td>\n",
              "    </tr>\n",
              "    <tr>\n",
              "      <th>Discharged skilled nursing home</th>\n",
              "      <td>514.0</td>\n",
              "      <td>66.0</td>\n",
              "      <td>20.0</td>\n",
              "      <td>600.000000</td>\n",
              "    </tr>\n",
              "    <tr>\n",
              "      <th>Discharged Hospice</th>\n",
              "      <td>125.0</td>\n",
              "      <td>21.0</td>\n",
              "      <td>6.0</td>\n",
              "      <td>152.000000</td>\n",
              "    </tr>\n",
              "    <tr>\n",
              "      <th>Transferred to another facility</th>\n",
              "      <td>50.0</td>\n",
              "      <td>4.0</td>\n",
              "      <td>0.0</td>\n",
              "      <td>54.000000</td>\n",
              "    </tr>\n",
              "    <tr>\n",
              "      <th>Mean days in hospital</th>\n",
              "      <td>7.2</td>\n",
              "      <td>7.3</td>\n",
              "      <td>7.0</td>\n",
              "      <td>7.166667</td>\n",
              "    </tr>\n",
              "    <tr>\n",
              "      <th>Hypotension</th>\n",
              "      <td>348.0</td>\n",
              "      <td>45.0</td>\n",
              "      <td>6.0</td>\n",
              "      <td>399.000000</td>\n",
              "    </tr>\n",
              "    <tr>\n",
              "      <th>Acute Renal Failure</th>\n",
              "      <td>130.0</td>\n",
              "      <td>14.0</td>\n",
              "      <td>0.0</td>\n",
              "      <td>144.000000</td>\n",
              "    </tr>\n",
              "    <tr>\n",
              "      <th>Respiratory Insufficiency</th>\n",
              "      <td>4046.0</td>\n",
              "      <td>396.0</td>\n",
              "      <td>64.0</td>\n",
              "      <td>4506.000000</td>\n",
              "    </tr>\n",
              "  </tbody>\n",
              "</table>\n",
              "</div>\n",
              "      <button class=\"colab-df-convert\" onclick=\"convertToInteractive('df-5ec6d7a4-2860-4df6-85f5-3da67e08e266')\"\n",
              "              title=\"Convert this dataframe to an interactive table.\"\n",
              "              style=\"display:none;\">\n",
              "        \n",
              "  <svg xmlns=\"http://www.w3.org/2000/svg\" height=\"24px\"viewBox=\"0 0 24 24\"\n",
              "       width=\"24px\">\n",
              "    <path d=\"M0 0h24v24H0V0z\" fill=\"none\"/>\n",
              "    <path d=\"M18.56 5.44l.94 2.06.94-2.06 2.06-.94-2.06-.94-.94-2.06-.94 2.06-2.06.94zm-11 1L8.5 8.5l.94-2.06 2.06-.94-2.06-.94L8.5 2.5l-.94 2.06-2.06.94zm10 10l.94 2.06.94-2.06 2.06-.94-2.06-.94-.94-2.06-.94 2.06-2.06.94z\"/><path d=\"M17.41 7.96l-1.37-1.37c-.4-.4-.92-.59-1.43-.59-.52 0-1.04.2-1.43.59L10.3 9.45l-7.72 7.72c-.78.78-.78 2.05 0 2.83L4 21.41c.39.39.9.59 1.41.59.51 0 1.02-.2 1.41-.59l7.78-7.78 2.81-2.81c.8-.78.8-2.07 0-2.86zM5.41 20L4 18.59l7.72-7.72 1.47 1.35L5.41 20z\"/>\n",
              "  </svg>\n",
              "      </button>\n",
              "      \n",
              "  <style>\n",
              "    .colab-df-container {\n",
              "      display:flex;\n",
              "      flex-wrap:wrap;\n",
              "      gap: 12px;\n",
              "    }\n",
              "\n",
              "    .colab-df-convert {\n",
              "      background-color: #E8F0FE;\n",
              "      border: none;\n",
              "      border-radius: 50%;\n",
              "      cursor: pointer;\n",
              "      display: none;\n",
              "      fill: #1967D2;\n",
              "      height: 32px;\n",
              "      padding: 0 0 0 0;\n",
              "      width: 32px;\n",
              "    }\n",
              "\n",
              "    .colab-df-convert:hover {\n",
              "      background-color: #E2EBFA;\n",
              "      box-shadow: 0px 1px 2px rgba(60, 64, 67, 0.3), 0px 1px 3px 1px rgba(60, 64, 67, 0.15);\n",
              "      fill: #174EA6;\n",
              "    }\n",
              "\n",
              "    [theme=dark] .colab-df-convert {\n",
              "      background-color: #3B4455;\n",
              "      fill: #D2E3FC;\n",
              "    }\n",
              "\n",
              "    [theme=dark] .colab-df-convert:hover {\n",
              "      background-color: #434B5C;\n",
              "      box-shadow: 0px 1px 3px 1px rgba(0, 0, 0, 0.15);\n",
              "      filter: drop-shadow(0px 1px 2px rgba(0, 0, 0, 0.3));\n",
              "      fill: #FFFFFF;\n",
              "    }\n",
              "  </style>\n",
              "\n",
              "      <script>\n",
              "        const buttonEl =\n",
              "          document.querySelector('#df-5ec6d7a4-2860-4df6-85f5-3da67e08e266 button.colab-df-convert');\n",
              "        buttonEl.style.display =\n",
              "          google.colab.kernel.accessAllowed ? 'block' : 'none';\n",
              "\n",
              "        async function convertToInteractive(key) {\n",
              "          const element = document.querySelector('#df-5ec6d7a4-2860-4df6-85f5-3da67e08e266');\n",
              "          const dataTable =\n",
              "            await google.colab.kernel.invokeFunction('convertToInteractive',\n",
              "                                                     [key], {});\n",
              "          if (!dataTable) return;\n",
              "\n",
              "          const docLinkHtml = 'Like what you see? Visit the ' +\n",
              "            '<a target=\"_blank\" href=https://colab.research.google.com/notebooks/data_table.ipynb>data table notebook</a>'\n",
              "            + ' to learn more about interactive tables.';\n",
              "          element.innerHTML = '';\n",
              "          dataTable['output_type'] = 'display_data';\n",
              "          await google.colab.output.renderOutput(dataTable, element);\n",
              "          const docLink = document.createElement('div');\n",
              "          docLink.innerHTML = docLinkHtml;\n",
              "          element.appendChild(docLink);\n",
              "        }\n",
              "      </script>\n",
              "    </div>\n",
              "  </div>\n",
              "  "
            ]
          },
          "metadata": {},
          "execution_count": 26
        }
      ]
    },
    {
      "cell_type": "code",
      "source": [
        "covid_df.iloc[0].name"
      ],
      "metadata": {
        "colab": {
          "base_uri": "https://localhost:8080/",
          "height": 36
        },
        "id": "7xT7wRN6i1Pj",
        "outputId": "261aa2de-9221-4596-f79a-1d9e560a8945"
      },
      "execution_count": 36,
      "outputs": [
        {
          "output_type": "execute_result",
          "data": {
            "text/plain": [
              "'Baseline'"
            ],
            "application/vnd.google.colaboratory.intrinsic+json": {
              "type": "string"
            }
          },
          "metadata": {},
          "execution_count": 36
        }
      ]
    },
    {
      "cell_type": "markdown",
      "source": [
        "#Plan\n",
        "\n",
        "Let's build a plan of action."
      ],
      "metadata": {
        "id": "sToG67JVjp8g"
      }
    },
    {
      "cell_type": "markdown",
      "source": [
        "We have a number of interesting things we want to look at. We will use the following indices in our exploration:\n",
        "\n",
        "* Baseline - compare hospitilizations of unvaccinated, partially vaccinated, and fully vaccinated invdividuals\n",
        "* Mean Age - compare hospitilizations based on mean age between the three groups\n",
        "* Males & Females - compare gender\n",
        "* Black or African American & White & Race Not Reported - compare race\n",
        "* Secondary Outcome - compare secondary outcome between unvaccinated, partially vaccinated, and fully vaccinated\n",
        "* ICU Admission - compare ICU Admission between three groups\n",
        "* In-Hospital Mortality - compar mortality rates between three groups\n",
        "* Supplemental Oxygen - compare required supplemental oxygen between three groups\n",
        "* Respiratory Insufficiency - look at respiratory insufficiency in unvaccinated\n"
      ],
      "metadata": {
        "id": "uTlVG37djtHG"
      }
    },
    {
      "cell_type": "markdown",
      "source": [
        "# Data Analysis"
      ],
      "metadata": {
        "id": "aA853fW3lLz8"
      }
    },
    {
      "cell_type": "markdown",
      "source": [
        "## Baseline"
      ],
      "metadata": {
        "id": "ldHyIkpMlNt8"
      }
    },
    {
      "cell_type": "markdown",
      "source": [
        "Comparison of hospitilizations between unvaccinated individuals, partially vaccinated individuals, and fully vaccinated individuals."
      ],
      "metadata": {
        "id": "ARldlD24lQqR"
      }
    },
    {
      "cell_type": "code",
      "source": [
        "from matplotlib import colors\n",
        "plt.figure(figsize=(12, 6))\n",
        "sns.barplot(y=covid_df.iloc[0].index, x=covid_df.iloc[0], palette=(\"#CAAE95\", \"grey\", \"grey\", \"grey\"))\n",
        "plt.plot()"
      ],
      "metadata": {
        "colab": {
          "base_uri": "https://localhost:8080/",
          "height": 406
        },
        "id": "_cWhRxzNjdQX",
        "outputId": "9cd85b6c-1cfe-459c-bc86-fa8bde622fa1"
      },
      "execution_count": 56,
      "outputs": [
        {
          "output_type": "execute_result",
          "data": {
            "text/plain": [
              "[]"
            ]
          },
          "metadata": {},
          "execution_count": 56
        },
        {
          "output_type": "display_data",
          "data": {
            "text/plain": [
              "<Figure size 864x432 with 1 Axes>"
            ],
            "image/png": "[encoded data removed]"
          },
          "metadata": {
            "needs_background": "light"
          }
        }
      ]
    },
    {
      "cell_type": "markdown",
      "source": [
        "##Mean Age"
      ],
      "metadata": {
        "id": "94mnqHuypDfO"
      }
    },
    {
      "cell_type": "code",
      "source": [
        "plt.figure(figsize=(12, 6))\n",
        "sns.barplot(y=covid_df.iloc[1].index, x=covid_df.iloc[1], palette=(\"grey\", \"grey\", \"#CAAE95\", \"grey\"))\n",
        "plt.plot()"
      ],
      "metadata": {
        "colab": {
          "base_uri": "https://localhost:8080/",
          "height": 406
        },
        "id": "T7N1yaUElpYE",
        "outputId": "4dc4e416-361f-4e71-ea56-7928a1c742a4"
      },
      "execution_count": 58,
      "outputs": [
        {
          "output_type": "execute_result",
          "data": {
            "text/plain": [
              "[]"
            ]
          },
          "metadata": {},
          "execution_count": 58
        },
        {
          "output_type": "display_data",
          "data": {
            "text/plain": [
              "<Figure size 864x432 with 1 Axes>"
            ],
            "image/png": "[encoded data removed]"
          },
          "metadata": {
            "needs_background": "light"
          }
        }
      ]
    },
    {
      "cell_type": "code",
      "source": [
        "print(\"Mean age of unvaccinated patients hospitalized for COVID-19: \" + str(covid_df.iloc[1][0]) + \" years old.\")"
      ],
      "metadata": {
        "colab": {
          "base_uri": "https://localhost:8080/"
        },
        "id": "Sato796tpPrW",
        "outputId": "6f68eb70-b331-49cc-9441-10f0cc321706"
      },
      "execution_count": 63,
      "outputs": [
        {
          "output_type": "stream",
          "name": "stdout",
          "text": [
            "Mean age of unvaccinated patients hospitalized for COVID-19: 52.1 years old.\n"
          ]
        }
      ]
    },
    {
      "cell_type": "markdown",
      "source": [
        "# Unvaccinated Males Vs Females"
      ],
      "metadata": {
        "id": "58hprQmUp_zK"
      }
    },
    {
      "cell_type": "code",
      "source": [
        "covid_df.iloc[3:5, 0]"
      ],
      "metadata": {
        "colab": {
          "base_uri": "https://localhost:8080/"
        },
        "id": "fa-oBJ7jqYQl",
        "outputId": "7410b831-9331-449e-9f16-1699706ff802"
      },
      "execution_count": 70,
      "outputs": [
        {
          "output_type": "execute_result",
          "data": {
            "text/plain": [
              "Female    5750.0\n",
              "Male      5130.0\n",
              "Name: Unvacc, dtype: float64"
            ]
          },
          "metadata": {},
          "execution_count": 70
        }
      ]
    },
    {
      "cell_type": "code",
      "source": [
        "plt.figure(figsize=(12, 6))\n",
        "sns.barplot(y=covid_df.iloc[3:5].index, x=covid_df.iloc[3:5,0], palette=(\"#CAAE95\", \"grey\"))\n",
        "plt.plot()"
      ],
      "metadata": {
        "colab": {
          "base_uri": "https://localhost:8080/",
          "height": 406
        },
        "id": "NkoEkHKBpoi0",
        "outputId": "c118ead9-ea06-4729-f99b-c11b08005eb4"
      },
      "execution_count": 72,
      "outputs": [
        {
          "output_type": "execute_result",
          "data": {
            "text/plain": [
              "[]"
            ]
          },
          "metadata": {},
          "execution_count": 72
        },
        {
          "output_type": "display_data",
          "data": {
            "text/plain": [
              "<Figure size 864x432 with 1 Axes>"
            ],
            "image/png": "[encoded data removed]"
          },
          "metadata": {
            "needs_background": "light"
          }
        }
      ]
    },
    {
      "cell_type": "markdown",
      "source": [
        "##Comparing Race"
      ],
      "metadata": {
        "id": "5OmLrmP3qx8k"
      }
    },
    {
      "cell_type": "code",
      "source": [
        "plt.figure(figsize=(12, 6))\n",
        "sns.barplot(y=covid_df.iloc[5:8].index, x=covid_df.iloc[5:8,0], palette=(\"grey\", \"#CAAE95\", \"grey\"))\n",
        "plt.plot()"
      ],
      "metadata": {
        "colab": {
          "base_uri": "https://localhost:8080/",
          "height": 406
        },
        "id": "yo651bguqQeA",
        "outputId": "c0199c1a-bdfe-4558-f2c3-251971cf7fd1"
      },
      "execution_count": 74,
      "outputs": [
        {
          "output_type": "execute_result",
          "data": {
            "text/plain": [
              "[]"
            ]
          },
          "metadata": {},
          "execution_count": 74
        },
        {
          "output_type": "display_data",
          "data": {
            "text/plain": [
              "<Figure size 864x432 with 1 Axes>"
            ],
            "image/png": "[encoded data removed]"
          },
          "metadata": {
            "needs_background": "light"
          }
        }
      ]
    },
    {
      "cell_type": "markdown",
      "source": [
        "##Looking at Secondary Outcome"
      ],
      "metadata": {
        "id": "PlNbZrhGq8rK"
      }
    },
    {
      "cell_type": "code",
      "source": [
        "covid_df.iloc[9]"
      ],
      "metadata": {
        "colab": {
          "base_uri": "https://localhost:8080/"
        },
        "id": "2SB6jKNHr4JG",
        "outputId": "2a1c62b3-d07e-4221-af90-52655621fae0"
      },
      "execution_count": 92,
      "outputs": [
        {
          "output_type": "execute_result",
          "data": {
            "text/plain": [
              "Unvacc         733.0\n",
              "PartialVacc     85.0\n",
              "FullyVacc       16.0\n",
              "Total          834.0\n",
              "Name: Secondary Outcome, dtype: float64"
            ]
          },
          "metadata": {},
          "execution_count": 92
        }
      ]
    },
    {
      "cell_type": "code",
      "source": [
        "plt.figure(figsize=(12, 6))\n",
        "sns.barplot(y=covid_df.iloc[9].index, x=covid_df.iloc[9], palette=(\"#CAAE95\", \"grey\", \"grey\", \"grey\"))\n",
        "plt.plot()"
      ],
      "metadata": {
        "colab": {
          "base_uri": "https://localhost:8080/",
          "height": 406
        },
        "id": "Ef83K6xZqO0L",
        "outputId": "167c0bd4-bc7a-46dd-e07b-07d3f6cc4f9c"
      },
      "execution_count": 100,
      "outputs": [
        {
          "output_type": "execute_result",
          "data": {
            "text/plain": [
              "[]"
            ]
          },
          "metadata": {},
          "execution_count": 100
        },
        {
          "output_type": "display_data",
          "data": {
            "text/plain": [
              "<Figure size 864x432 with 1 Axes>"
            ],
            "image/png": "[encoded data removed]"
          },
          "metadata": {
            "needs_background": "light"
          }
        }
      ]
    },
    {
      "cell_type": "code",
      "source": [
        "covid_unvacc_sec_vs_tot = covid_df[[\"Unvacc\", \"Total\"]]"
      ],
      "metadata": {
        "id": "jFTAdO1HrB8V"
      },
      "execution_count": 101,
      "outputs": []
    },
    {
      "cell_type": "code",
      "source": [
        "new_df = pd.DataFrame(data=[[733.0, 10880]], columns=[\"SecondaryUnvacc\", \"BaselineTot\"])"
      ],
      "metadata": {
        "id": "uaidQEr2uCGL"
      },
      "execution_count": 176,
      "outputs": []
    },
    {
      "cell_type": "code",
      "source": [
        "new_df"
      ],
      "metadata": {
        "colab": {
          "base_uri": "https://localhost:8080/",
          "height": 81
        },
        "id": "rMlfAuOuvGzI",
        "outputId": "01b72dd1-9e7b-4018-f10c-5a8b84953b3e"
      },
      "execution_count": 177,
      "outputs": [
        {
          "output_type": "execute_result",
          "data": {
            "text/plain": [
              "   SecondaryUnvacc  BaselineTot\n",
              "0            733.0        10880"
            ],
            "text/html": [
              "\n",
              "  <div id=\"df-975e272c-5f39-4638-a40d-863885e13ef2\">\n",
              "    <div class=\"colab-df-container\">\n",
              "      <div>\n",
              "<style scoped>\n",
              "    .dataframe tbody tr th:only-of-type {\n",
              "        vertical-align: middle;\n",
              "    }\n",
              "\n",
              "    .dataframe tbody tr th {\n",
              "        vertical-align: top;\n",
              "    }\n",
              "\n",
              "    .dataframe thead th {\n",
              "        text-align: right;\n",
              "    }\n",
              "</style>\n",
              "<table border=\"1\" class=\"dataframe\">\n",
              "  <thead>\n",
              "    <tr style=\"text-align: right;\">\n",
              "      <th></th>\n",
              "      <th>SecondaryUnvacc</th>\n",
              "      <th>BaselineTot</th>\n",
              "    </tr>\n",
              "  </thead>\n",
              "  <tbody>\n",
              "    <tr>\n",
              "      <th>0</th>\n",
              "      <td>733.0</td>\n",
              "      <td>10880</td>\n",
              "    </tr>\n",
              "  </tbody>\n",
              "</table>\n",
              "</div>\n",
              "      <button class=\"colab-df-convert\" onclick=\"convertToInteractive('df-975e272c-5f39-4638-a40d-863885e13ef2')\"\n",
              "              title=\"Convert this dataframe to an interactive table.\"\n",
              "              style=\"display:none;\">\n",
              "        \n",
              "  <svg xmlns=\"http://www.w3.org/2000/svg\" height=\"24px\"viewBox=\"0 0 24 24\"\n",
              "       width=\"24px\">\n",
              "    <path d=\"M0 0h24v24H0V0z\" fill=\"none\"/>\n",
              "    <path d=\"M18.56 5.44l.94 2.06.94-2.06 2.06-.94-2.06-.94-.94-2.06-.94 2.06-2.06.94zm-11 1L8.5 8.5l.94-2.06 2.06-.94-2.06-.94L8.5 2.5l-.94 2.06-2.06.94zm10 10l.94 2.06.94-2.06 2.06-.94-2.06-.94-.94-2.06-.94 2.06-2.06.94z\"/><path d=\"M17.41 7.96l-1.37-1.37c-.4-.4-.92-.59-1.43-.59-.52 0-1.04.2-1.43.59L10.3 9.45l-7.72 7.72c-.78.78-.78 2.05 0 2.83L4 21.41c.39.39.9.59 1.41.59.51 0 1.02-.2 1.41-.59l7.78-7.78 2.81-2.81c.8-.78.8-2.07 0-2.86zM5.41 20L4 18.59l7.72-7.72 1.47 1.35L5.41 20z\"/>\n",
              "  </svg>\n",
              "      </button>\n",
              "      \n",
              "  <style>\n",
              "    .colab-df-container {\n",
              "      display:flex;\n",
              "      flex-wrap:wrap;\n",
              "      gap: 12px;\n",
              "    }\n",
              "\n",
              "    .colab-df-convert {\n",
              "      background-color: #E8F0FE;\n",
              "      border: none;\n",
              "      border-radius: 50%;\n",
              "      cursor: pointer;\n",
              "      display: none;\n",
              "      fill: #1967D2;\n",
              "      height: 32px;\n",
              "      padding: 0 0 0 0;\n",
              "      width: 32px;\n",
              "    }\n",
              "\n",
              "    .colab-df-convert:hover {\n",
              "      background-color: #E2EBFA;\n",
              "      box-shadow: 0px 1px 2px rgba(60, 64, 67, 0.3), 0px 1px 3px 1px rgba(60, 64, 67, 0.15);\n",
              "      fill: #174EA6;\n",
              "    }\n",
              "\n",
              "    [theme=dark] .colab-df-convert {\n",
              "      background-color: #3B4455;\n",
              "      fill: #D2E3FC;\n",
              "    }\n",
              "\n",
              "    [theme=dark] .colab-df-convert:hover {\n",
              "      background-color: #434B5C;\n",
              "      box-shadow: 0px 1px 3px 1px rgba(0, 0, 0, 0.15);\n",
              "      filter: drop-shadow(0px 1px 2px rgba(0, 0, 0, 0.3));\n",
              "      fill: #FFFFFF;\n",
              "    }\n",
              "  </style>\n",
              "\n",
              "      <script>\n",
              "        const buttonEl =\n",
              "          document.querySelector('#df-975e272c-5f39-4638-a40d-863885e13ef2 button.colab-df-convert');\n",
              "        buttonEl.style.display =\n",
              "          google.colab.kernel.accessAllowed ? 'block' : 'none';\n",
              "\n",
              "        async function convertToInteractive(key) {\n",
              "          const element = document.querySelector('#df-975e272c-5f39-4638-a40d-863885e13ef2');\n",
              "          const dataTable =\n",
              "            await google.colab.kernel.invokeFunction('convertToInteractive',\n",
              "                                                     [key], {});\n",
              "          if (!dataTable) return;\n",
              "\n",
              "          const docLinkHtml = 'Like what you see? Visit the ' +\n",
              "            '<a target=\"_blank\" href=https://colab.research.google.com/notebooks/data_table.ipynb>data table notebook</a>'\n",
              "            + ' to learn more about interactive tables.';\n",
              "          element.innerHTML = '';\n",
              "          dataTable['output_type'] = 'display_data';\n",
              "          await google.colab.output.renderOutput(dataTable, element);\n",
              "          const docLink = document.createElement('div');\n",
              "          docLink.innerHTML = docLinkHtml;\n",
              "          element.appendChild(docLink);\n",
              "        }\n",
              "      </script>\n",
              "    </div>\n",
              "  </div>\n",
              "  "
            ]
          },
          "metadata": {},
          "execution_count": 177
        }
      ]
    },
    {
      "cell_type": "code",
      "source": [
        "plt.figure(figsize=(12, 6))\n",
        "sns.barplot(data=new_df, palette=(\"#CAAE95\", \"grey\"))\n",
        "plt.plot()"
      ],
      "metadata": {
        "colab": {
          "base_uri": "https://localhost:8080/",
          "height": 392
        },
        "id": "fD5RNvBkuPIT",
        "outputId": "1eb51528-e020-4320-8ccc-60eb592c38b0"
      },
      "execution_count": 178,
      "outputs": [
        {
          "output_type": "execute_result",
          "data": {
            "text/plain": [
              "[]"
            ]
          },
          "metadata": {},
          "execution_count": 178
        },
        {
          "output_type": "display_data",
          "data": {
            "text/plain": [
              "<Figure size 864x432 with 1 Axes>"
            ],
            "image/png": "[encoded data removed]"
          },
          "metadata": {
            "needs_background": "light"
          }
        }
      ]
    },
    {
      "cell_type": "code",
      "source": [
        "print(str(new_df.iloc[0, 0] / new_df.iloc[0, 1] * 100) + \"% of total unvaccinated hospitilizations led to secondary problems, including severe infection, ICU admission, oxygen therapy, in-hospital mortality, etc.\")"
      ],
      "metadata": {
        "colab": {
          "base_uri": "https://localhost:8080/"
        },
        "id": "y0oVeqTHu_nO",
        "outputId": "3f0760fe-f2dd-42b4-d82d-b3b1306a06fb"
      },
      "execution_count": 179,
      "outputs": [
        {
          "output_type": "stream",
          "name": "stdout",
          "text": [
            "6.737132352941176% of total unvaccinated hospitilizations led to secondary problems, including severe infection, ICU admission, oxygen therapy, in-hospital mortality, etc.\n"
          ]
        }
      ]
    },
    {
      "cell_type": "markdown",
      "source": [
        "## ICU Admission"
      ],
      "metadata": {
        "id": "yFuGnojsxU2s"
      }
    },
    {
      "cell_type": "code",
      "source": [
        "data = [[covid_df.loc[\"ICU Admission\"][0], covid_df.loc[\"Baseline\"][0]]]\n",
        "columns = [\"UnvaccICU\", \"BaselineUnvacc\"]"
      ],
      "metadata": {
        "id": "8vQPQANewpKm"
      },
      "execution_count": 180,
      "outputs": []
    },
    {
      "cell_type": "code",
      "source": [
        "icu_df = pd.DataFrame(data=data, columns=columns)"
      ],
      "metadata": {
        "id": "k95aHW1lxgf1"
      },
      "execution_count": 181,
      "outputs": []
    },
    {
      "cell_type": "code",
      "source": [
        "icu_df"
      ],
      "metadata": {
        "colab": {
          "base_uri": "https://localhost:8080/",
          "height": 81
        },
        "id": "z4U2wjcfxsZ7",
        "outputId": "92215eaf-4700-4366-8217-8fd1bd726847"
      },
      "execution_count": 182,
      "outputs": [
        {
          "output_type": "execute_result",
          "data": {
            "text/plain": [
              "   UnvaccICU  BaselineUnvacc\n",
              "0      619.0         10880.0"
            ],
            "text/html": [
              "\n",
              "  <div id=\"df-977ff405-9719-4c5f-b3ab-9336529ffc29\">\n",
              "    <div class=\"colab-df-container\">\n",
              "      <div>\n",
              "<style scoped>\n",
              "    .dataframe tbody tr th:only-of-type {\n",
              "        vertical-align: middle;\n",
              "    }\n",
              "\n",
              "    .dataframe tbody tr th {\n",
              "        vertical-align: top;\n",
              "    }\n",
              "\n",
              "    .dataframe thead th {\n",
              "        text-align: right;\n",
              "    }\n",
              "</style>\n",
              "<table border=\"1\" class=\"dataframe\">\n",
              "  <thead>\n",
              "    <tr style=\"text-align: right;\">\n",
              "      <th></th>\n",
              "      <th>UnvaccICU</th>\n",
              "      <th>BaselineUnvacc</th>\n",
              "    </tr>\n",
              "  </thead>\n",
              "  <tbody>\n",
              "    <tr>\n",
              "      <th>0</th>\n",
              "      <td>619.0</td>\n",
              "      <td>10880.0</td>\n",
              "    </tr>\n",
              "  </tbody>\n",
              "</table>\n",
              "</div>\n",
              "      <button class=\"colab-df-convert\" onclick=\"convertToInteractive('df-977ff405-9719-4c5f-b3ab-9336529ffc29')\"\n",
              "              title=\"Convert this dataframe to an interactive table.\"\n",
              "              style=\"display:none;\">\n",
              "        \n",
              "  <svg xmlns=\"http://www.w3.org/2000/svg\" height=\"24px\"viewBox=\"0 0 24 24\"\n",
              "       width=\"24px\">\n",
              "    <path d=\"M0 0h24v24H0V0z\" fill=\"none\"/>\n",
              "    <path d=\"M18.56 5.44l.94 2.06.94-2.06 2.06-.94-2.06-.94-.94-2.06-.94 2.06-2.06.94zm-11 1L8.5 8.5l.94-2.06 2.06-.94-2.06-.94L8.5 2.5l-.94 2.06-2.06.94zm10 10l.94 2.06.94-2.06 2.06-.94-2.06-.94-.94-2.06-.94 2.06-2.06.94z\"/><path d=\"M17.41 7.96l-1.37-1.37c-.4-.4-.92-.59-1.43-.59-.52 0-1.04.2-1.43.59L10.3 9.45l-7.72 7.72c-.78.78-.78 2.05 0 2.83L4 21.41c.39.39.9.59 1.41.59.51 0 1.02-.2 1.41-.59l7.78-7.78 2.81-2.81c.8-.78.8-2.07 0-2.86zM5.41 20L4 18.59l7.72-7.72 1.47 1.35L5.41 20z\"/>\n",
              "  </svg>\n",
              "      </button>\n",
              "      \n",
              "  <style>\n",
              "    .colab-df-container {\n",
              "      display:flex;\n",
              "      flex-wrap:wrap;\n",
              "      gap: 12px;\n",
              "    }\n",
              "\n",
              "    .colab-df-convert {\n",
              "      background-color: #E8F0FE;\n",
              "      border: none;\n",
              "      border-radius: 50%;\n",
              "      cursor: pointer;\n",
              "      display: none;\n",
              "      fill: #1967D2;\n",
              "      height: 32px;\n",
              "      padding: 0 0 0 0;\n",
              "      width: 32px;\n",
              "    }\n",
              "\n",
              "    .colab-df-convert:hover {\n",
              "      background-color: #E2EBFA;\n",
              "      box-shadow: 0px 1px 2px rgba(60, 64, 67, 0.3), 0px 1px 3px 1px rgba(60, 64, 67, 0.15);\n",
              "      fill: #174EA6;\n",
              "    }\n",
              "\n",
              "    [theme=dark] .colab-df-convert {\n",
              "      background-color: #3B4455;\n",
              "      fill: #D2E3FC;\n",
              "    }\n",
              "\n",
              "    [theme=dark] .colab-df-convert:hover {\n",
              "      background-color: #434B5C;\n",
              "      box-shadow: 0px 1px 3px 1px rgba(0, 0, 0, 0.15);\n",
              "      filter: drop-shadow(0px 1px 2px rgba(0, 0, 0, 0.3));\n",
              "      fill: #FFFFFF;\n",
              "    }\n",
              "  </style>\n",
              "\n",
              "      <script>\n",
              "        const buttonEl =\n",
              "          document.querySelector('#df-977ff405-9719-4c5f-b3ab-9336529ffc29 button.colab-df-convert');\n",
              "        buttonEl.style.display =\n",
              "          google.colab.kernel.accessAllowed ? 'block' : 'none';\n",
              "\n",
              "        async function convertToInteractive(key) {\n",
              "          const element = document.querySelector('#df-977ff405-9719-4c5f-b3ab-9336529ffc29');\n",
              "          const dataTable =\n",
              "            await google.colab.kernel.invokeFunction('convertToInteractive',\n",
              "                                                     [key], {});\n",
              "          if (!dataTable) return;\n",
              "\n",
              "          const docLinkHtml = 'Like what you see? Visit the ' +\n",
              "            '<a target=\"_blank\" href=https://colab.research.google.com/notebooks/data_table.ipynb>data table notebook</a>'\n",
              "            + ' to learn more about interactive tables.';\n",
              "          element.innerHTML = '';\n",
              "          dataTable['output_type'] = 'display_data';\n",
              "          await google.colab.output.renderOutput(dataTable, element);\n",
              "          const docLink = document.createElement('div');\n",
              "          docLink.innerHTML = docLinkHtml;\n",
              "          element.appendChild(docLink);\n",
              "        }\n",
              "      </script>\n",
              "    </div>\n",
              "  </div>\n",
              "  "
            ]
          },
          "metadata": {},
          "execution_count": 182
        }
      ]
    },
    {
      "cell_type": "code",
      "source": [
        "plt.figure(figsize=(12, 6))\n",
        "sns.barplot(data=icu_df, palette=(\"#CAAE95\", \"grey\"))\n",
        "plt.plot()"
      ],
      "metadata": {
        "colab": {
          "base_uri": "https://localhost:8080/",
          "height": 392
        },
        "id": "Ksvc0KmqyD8U",
        "outputId": "f3b3db44-1a54-44c8-dfd9-7e9e06a4b734"
      },
      "execution_count": 183,
      "outputs": [
        {
          "output_type": "execute_result",
          "data": {
            "text/plain": [
              "[]"
            ]
          },
          "metadata": {},
          "execution_count": 183
        },
        {
          "output_type": "display_data",
          "data": {
            "text/plain": [
              "<Figure size 864x432 with 1 Axes>"
            ],
            "image/png": "[encoded data removed]"
          },
          "metadata": {
            "needs_background": "light"
          }
        }
      ]
    },
    {
      "cell_type": "code",
      "source": [
        "print(str(icu_df.iloc[0, 0] / icu_df.iloc[0, 1] * 100) + \"% of total unvaccinated hospitilizations led to ICU addmissions\")"
      ],
      "metadata": {
        "colab": {
          "base_uri": "https://localhost:8080/"
        },
        "id": "kcq2trqfyHL8",
        "outputId": "0d024af2-90f2-4cb2-91a7-e948c50cfee7"
      },
      "execution_count": 185,
      "outputs": [
        {
          "output_type": "stream",
          "name": "stdout",
          "text": [
            "5.689338235294118% of total unvaccinated hospitilizations led to ICU addmissions\n"
          ]
        }
      ]
    },
    {
      "cell_type": "markdown",
      "source": [
        "##In-Hospital Mortality"
      ],
      "metadata": {
        "id": "yVLdfeMJyVed"
      }
    },
    {
      "cell_type": "code",
      "source": [
        "data = [[covid_df.loc[\"In-Hospital Mortality\"][0], covid_df.loc[\"Baseline\"][0]]]\n",
        "columns = [\"UnvaccMort\", \"BaselineUnvacc\"]"
      ],
      "metadata": {
        "id": "vr_wpPDiyP3G"
      },
      "execution_count": 186,
      "outputs": []
    },
    {
      "cell_type": "code",
      "source": [
        "mort_df = pd.DataFrame(data=data, columns=columns)"
      ],
      "metadata": {
        "id": "n_ZLdynryhEt"
      },
      "execution_count": 187,
      "outputs": []
    },
    {
      "cell_type": "code",
      "source": [
        "mort_df"
      ],
      "metadata": {
        "colab": {
          "base_uri": "https://localhost:8080/",
          "height": 81
        },
        "id": "jXdH6s1CykNt",
        "outputId": "eeab529b-0081-4b0a-cd1c-9a00fda9aae5"
      },
      "execution_count": 188,
      "outputs": [
        {
          "output_type": "execute_result",
          "data": {
            "text/plain": [
              "   UnvaccMort  BaselineUnvacc\n",
              "0       384.0         10880.0"
            ],
            "text/html": [
              "\n",
              "  <div id=\"df-1621691a-14da-4948-9318-b2778c93812a\">\n",
              "    <div class=\"colab-df-container\">\n",
              "      <div>\n",
              "<style scoped>\n",
              "    .dataframe tbody tr th:only-of-type {\n",
              "        vertical-align: middle;\n",
              "    }\n",
              "\n",
              "    .dataframe tbody tr th {\n",
              "        vertical-align: top;\n",
              "    }\n",
              "\n",
              "    .dataframe thead th {\n",
              "        text-align: right;\n",
              "    }\n",
              "</style>\n",
              "<table border=\"1\" class=\"dataframe\">\n",
              "  <thead>\n",
              "    <tr style=\"text-align: right;\">\n",
              "      <th></th>\n",
              "      <th>UnvaccMort</th>\n",
              "      <th>BaselineUnvacc</th>\n",
              "    </tr>\n",
              "  </thead>\n",
              "  <tbody>\n",
              "    <tr>\n",
              "      <th>0</th>\n",
              "      <td>384.0</td>\n",
              "      <td>10880.0</td>\n",
              "    </tr>\n",
              "  </tbody>\n",
              "</table>\n",
              "</div>\n",
              "      <button class=\"colab-df-convert\" onclick=\"convertToInteractive('df-1621691a-14da-4948-9318-b2778c93812a')\"\n",
              "              title=\"Convert this dataframe to an interactive table.\"\n",
              "              style=\"display:none;\">\n",
              "        \n",
              "  <svg xmlns=\"http://www.w3.org/2000/svg\" height=\"24px\"viewBox=\"0 0 24 24\"\n",
              "       width=\"24px\">\n",
              "    <path d=\"M0 0h24v24H0V0z\" fill=\"none\"/>\n",
              "    <path d=\"M18.56 5.44l.94 2.06.94-2.06 2.06-.94-2.06-.94-.94-2.06-.94 2.06-2.06.94zm-11 1L8.5 8.5l.94-2.06 2.06-.94-2.06-.94L8.5 2.5l-.94 2.06-2.06.94zm10 10l.94 2.06.94-2.06 2.06-.94-2.06-.94-.94-2.06-.94 2.06-2.06.94z\"/><path d=\"M17.41 7.96l-1.37-1.37c-.4-.4-.92-.59-1.43-.59-.52 0-1.04.2-1.43.59L10.3 9.45l-7.72 7.72c-.78.78-.78 2.05 0 2.83L4 21.41c.39.39.9.59 1.41.59.51 0 1.02-.2 1.41-.59l7.78-7.78 2.81-2.81c.8-.78.8-2.07 0-2.86zM5.41 20L4 18.59l7.72-7.72 1.47 1.35L5.41 20z\"/>\n",
              "  </svg>\n",
              "      </button>\n",
              "      \n",
              "  <style>\n",
              "    .colab-df-container {\n",
              "      display:flex;\n",
              "      flex-wrap:wrap;\n",
              "      gap: 12px;\n",
              "    }\n",
              "\n",
              "    .colab-df-convert {\n",
              "      background-color: #E8F0FE;\n",
              "      border: none;\n",
              "      border-radius: 50%;\n",
              "      cursor: pointer;\n",
              "      display: none;\n",
              "      fill: #1967D2;\n",
              "      height: 32px;\n",
              "      padding: 0 0 0 0;\n",
              "      width: 32px;\n",
              "    }\n",
              "\n",
              "    .colab-df-convert:hover {\n",
              "      background-color: #E2EBFA;\n",
              "      box-shadow: 0px 1px 2px rgba(60, 64, 67, 0.3), 0px 1px 3px 1px rgba(60, 64, 67, 0.15);\n",
              "      fill: #174EA6;\n",
              "    }\n",
              "\n",
              "    [theme=dark] .colab-df-convert {\n",
              "      background-color: #3B4455;\n",
              "      fill: #D2E3FC;\n",
              "    }\n",
              "\n",
              "    [theme=dark] .colab-df-convert:hover {\n",
              "      background-color: #434B5C;\n",
              "      box-shadow: 0px 1px 3px 1px rgba(0, 0, 0, 0.15);\n",
              "      filter: drop-shadow(0px 1px 2px rgba(0, 0, 0, 0.3));\n",
              "      fill: #FFFFFF;\n",
              "    }\n",
              "  </style>\n",
              "\n",
              "      <script>\n",
              "        const buttonEl =\n",
              "          document.querySelector('#df-1621691a-14da-4948-9318-b2778c93812a button.colab-df-convert');\n",
              "        buttonEl.style.display =\n",
              "          google.colab.kernel.accessAllowed ? 'block' : 'none';\n",
              "\n",
              "        async function convertToInteractive(key) {\n",
              "          const element = document.querySelector('#df-1621691a-14da-4948-9318-b2778c93812a');\n",
              "          const dataTable =\n",
              "            await google.colab.kernel.invokeFunction('convertToInteractive',\n",
              "                                                     [key], {});\n",
              "          if (!dataTable) return;\n",
              "\n",
              "          const docLinkHtml = 'Like what you see? Visit the ' +\n",
              "            '<a target=\"_blank\" href=https://colab.research.google.com/notebooks/data_table.ipynb>data table notebook</a>'\n",
              "            + ' to learn more about interactive tables.';\n",
              "          element.innerHTML = '';\n",
              "          dataTable['output_type'] = 'display_data';\n",
              "          await google.colab.output.renderOutput(dataTable, element);\n",
              "          const docLink = document.createElement('div');\n",
              "          docLink.innerHTML = docLinkHtml;\n",
              "          element.appendChild(docLink);\n",
              "        }\n",
              "      </script>\n",
              "    </div>\n",
              "  </div>\n",
              "  "
            ]
          },
          "metadata": {},
          "execution_count": 188
        }
      ]
    },
    {
      "cell_type": "code",
      "source": [
        "plt.figure(figsize=(12, 6))\n",
        "sns.barplot(data=mort_df, palette=(\"#CAAE95\", \"grey\"))\n",
        "plt.plot()"
      ],
      "metadata": {
        "colab": {
          "base_uri": "https://localhost:8080/",
          "height": 392
        },
        "id": "J_8Dw0dDynDc",
        "outputId": "ea878f14-dd77-473e-a964-091152b189fb"
      },
      "execution_count": 189,
      "outputs": [
        {
          "output_type": "execute_result",
          "data": {
            "text/plain": [
              "[]"
            ]
          },
          "metadata": {},
          "execution_count": 189
        },
        {
          "output_type": "display_data",
          "data": {
            "text/plain": [
              "<Figure size 864x432 with 1 Axes>"
            ],
            "image/png": "[encoded data removed]"
          },
          "metadata": {
            "needs_background": "light"
          }
        }
      ]
    },
    {
      "cell_type": "code",
      "source": [
        "print(str(mort_df.iloc[0, 0] / mort_df.iloc[0, 1] * 100) + \"% of total unvaccinated hospitilizations led to in-hospital mortalities\")"
      ],
      "metadata": {
        "colab": {
          "base_uri": "https://localhost:8080/"
        },
        "id": "zDpzqFLnyol8",
        "outputId": "6ed91218-dc0f-496b-8204-3ae982eed313"
      },
      "execution_count": 190,
      "outputs": [
        {
          "output_type": "stream",
          "name": "stdout",
          "text": [
            "3.5294117647058822% of total unvaccinated hospitilizations led to in-hospital mortalities\n"
          ]
        }
      ]
    },
    {
      "cell_type": "markdown",
      "source": [
        "##Supplemental Oxygen"
      ],
      "metadata": {
        "id": "W19fCP_4yxir"
      }
    },
    {
      "cell_type": "code",
      "source": [
        "data = [[covid_df.loc[\"Supplemental Oxygen\"][0], covid_df.loc[\"Baseline\"][0]]]\n",
        "columns = [\"UnvaccSuppOx\", \"BaselineUnvacc\"]"
      ],
      "metadata": {
        "id": "AmE-kJwIyubs"
      },
      "execution_count": 191,
      "outputs": []
    },
    {
      "cell_type": "code",
      "source": [
        "supp_ox_df = pd.DataFrame(data=data, columns=columns)"
      ],
      "metadata": {
        "id": "mydaDTIey290"
      },
      "execution_count": 192,
      "outputs": []
    },
    {
      "cell_type": "code",
      "source": [
        "supp_ox_df"
      ],
      "metadata": {
        "colab": {
          "base_uri": "https://localhost:8080/",
          "height": 81
        },
        "id": "Bss_L5_Ey7Ak",
        "outputId": "f41ba6fa-4a11-417b-e411-997e6243d22d"
      },
      "execution_count": 193,
      "outputs": [
        {
          "output_type": "execute_result",
          "data": {
            "text/plain": [
              "   UnvaccSuppOx  BaselineUnvacc\n",
              "0        4045.0         10880.0"
            ],
            "text/html": [
              "\n",
              "  <div id=\"df-3809a934-f915-46c8-875a-041204b8a264\">\n",
              "    <div class=\"colab-df-container\">\n",
              "      <div>\n",
              "<style scoped>\n",
              "    .dataframe tbody tr th:only-of-type {\n",
              "        vertical-align: middle;\n",
              "    }\n",
              "\n",
              "    .dataframe tbody tr th {\n",
              "        vertical-align: top;\n",
              "    }\n",
              "\n",
              "    .dataframe thead th {\n",
              "        text-align: right;\n",
              "    }\n",
              "</style>\n",
              "<table border=\"1\" class=\"dataframe\">\n",
              "  <thead>\n",
              "    <tr style=\"text-align: right;\">\n",
              "      <th></th>\n",
              "      <th>UnvaccSuppOx</th>\n",
              "      <th>BaselineUnvacc</th>\n",
              "    </tr>\n",
              "  </thead>\n",
              "  <tbody>\n",
              "    <tr>\n",
              "      <th>0</th>\n",
              "      <td>4045.0</td>\n",
              "      <td>10880.0</td>\n",
              "    </tr>\n",
              "  </tbody>\n",
              "</table>\n",
              "</div>\n",
              "      <button class=\"colab-df-convert\" onclick=\"convertToInteractive('df-3809a934-f915-46c8-875a-041204b8a264')\"\n",
              "              title=\"Convert this dataframe to an interactive table.\"\n",
              "              style=\"display:none;\">\n",
              "        \n",
              "  <svg xmlns=\"http://www.w3.org/2000/svg\" height=\"24px\"viewBox=\"0 0 24 24\"\n",
              "       width=\"24px\">\n",
              "    <path d=\"M0 0h24v24H0V0z\" fill=\"none\"/>\n",
              "    <path d=\"M18.56 5.44l.94 2.06.94-2.06 2.06-.94-2.06-.94-.94-2.06-.94 2.06-2.06.94zm-11 1L8.5 8.5l.94-2.06 2.06-.94-2.06-.94L8.5 2.5l-.94 2.06-2.06.94zm10 10l.94 2.06.94-2.06 2.06-.94-2.06-.94-.94-2.06-.94 2.06-2.06.94z\"/><path d=\"M17.41 7.96l-1.37-1.37c-.4-.4-.92-.59-1.43-.59-.52 0-1.04.2-1.43.59L10.3 9.45l-7.72 7.72c-.78.78-.78 2.05 0 2.83L4 21.41c.39.39.9.59 1.41.59.51 0 1.02-.2 1.41-.59l7.78-7.78 2.81-2.81c.8-.78.8-2.07 0-2.86zM5.41 20L4 18.59l7.72-7.72 1.47 1.35L5.41 20z\"/>\n",
              "  </svg>\n",
              "      </button>\n",
              "      \n",
              "  <style>\n",
              "    .colab-df-container {\n",
              "      display:flex;\n",
              "      flex-wrap:wrap;\n",
              "      gap: 12px;\n",
              "    }\n",
              "\n",
              "    .colab-df-convert {\n",
              "      background-color: #E8F0FE;\n",
              "      border: none;\n",
              "      border-radius: 50%;\n",
              "      cursor: pointer;\n",
              "      display: none;\n",
              "      fill: #1967D2;\n",
              "      height: 32px;\n",
              "      padding: 0 0 0 0;\n",
              "      width: 32px;\n",
              "    }\n",
              "\n",
              "    .colab-df-convert:hover {\n",
              "      background-color: #E2EBFA;\n",
              "      box-shadow: 0px 1px 2px rgba(60, 64, 67, 0.3), 0px 1px 3px 1px rgba(60, 64, 67, 0.15);\n",
              "      fill: #174EA6;\n",
              "    }\n",
              "\n",
              "    [theme=dark] .colab-df-convert {\n",
              "      background-color: #3B4455;\n",
              "      fill: #D2E3FC;\n",
              "    }\n",
              "\n",
              "    [theme=dark] .colab-df-convert:hover {\n",
              "      background-color: #434B5C;\n",
              "      box-shadow: 0px 1px 3px 1px rgba(0, 0, 0, 0.15);\n",
              "      filter: drop-shadow(0px 1px 2px rgba(0, 0, 0, 0.3));\n",
              "      fill: #FFFFFF;\n",
              "    }\n",
              "  </style>\n",
              "\n",
              "      <script>\n",
              "        const buttonEl =\n",
              "          document.querySelector('#df-3809a934-f915-46c8-875a-041204b8a264 button.colab-df-convert');\n",
              "        buttonEl.style.display =\n",
              "          google.colab.kernel.accessAllowed ? 'block' : 'none';\n",
              "\n",
              "        async function convertToInteractive(key) {\n",
              "          const element = document.querySelector('#df-3809a934-f915-46c8-875a-041204b8a264');\n",
              "          const dataTable =\n",
              "            await google.colab.kernel.invokeFunction('convertToInteractive',\n",
              "                                                     [key], {});\n",
              "          if (!dataTable) return;\n",
              "\n",
              "          const docLinkHtml = 'Like what you see? Visit the ' +\n",
              "            '<a target=\"_blank\" href=https://colab.research.google.com/notebooks/data_table.ipynb>data table notebook</a>'\n",
              "            + ' to learn more about interactive tables.';\n",
              "          element.innerHTML = '';\n",
              "          dataTable['output_type'] = 'display_data';\n",
              "          await google.colab.output.renderOutput(dataTable, element);\n",
              "          const docLink = document.createElement('div');\n",
              "          docLink.innerHTML = docLinkHtml;\n",
              "          element.appendChild(docLink);\n",
              "        }\n",
              "      </script>\n",
              "    </div>\n",
              "  </div>\n",
              "  "
            ]
          },
          "metadata": {},
          "execution_count": 193
        }
      ]
    },
    {
      "cell_type": "code",
      "source": [
        "plt.figure(figsize=(12, 6))\n",
        "sns.barplot(data=supp_ox_df, palette=(\"#CAAE95\", \"grey\"))\n",
        "plt.plot()"
      ],
      "metadata": {
        "colab": {
          "base_uri": "https://localhost:8080/",
          "height": 392
        },
        "id": "ou2IawFvy7tE",
        "outputId": "f6ef3662-8e33-4f68-a4a9-8de53e7965f1"
      },
      "execution_count": 194,
      "outputs": [
        {
          "output_type": "execute_result",
          "data": {
            "text/plain": [
              "[]"
            ]
          },
          "metadata": {},
          "execution_count": 194
        },
        {
          "output_type": "display_data",
          "data": {
            "text/plain": [
              "<Figure size 864x432 with 1 Axes>"
            ],
            "image/png": "[encoded data removed]"
          },
          "metadata": {
            "needs_background": "light"
          }
        }
      ]
    },
    {
      "cell_type": "code",
      "source": [
        "print(str(supp_ox_df.iloc[0, 0] / supp_ox_df.iloc[0, 1] * 100) + \"% of total unvaccinated hospitilizations led to required supplemental oxygen\")"
      ],
      "metadata": {
        "colab": {
          "base_uri": "https://localhost:8080/"
        },
        "id": "gUKUVScZy_cM",
        "outputId": "8abf3bd8-bb39-4305-8400-52f93a1cdb2b"
      },
      "execution_count": 202,
      "outputs": [
        {
          "output_type": "stream",
          "name": "stdout",
          "text": [
            "37.17830882352941% of total unvaccinated hospitilizations led to required supplemental oxygen\n"
          ]
        }
      ]
    },
    {
      "cell_type": "markdown",
      "source": [
        "##Respiratory Insufficiency"
      ],
      "metadata": {
        "id": "ir1n8U59zHLR"
      }
    },
    {
      "cell_type": "code",
      "source": [
        "data = [[covid_df.loc[\"Respiratory Insufficiency\"][0], covid_df.loc[\"Baseline\"][0]]]\n",
        "columns = [\"UnvaccRespInsuff\", \"BaselineUnvacc\"]"
      ],
      "metadata": {
        "id": "k7ChO2NpzDQe"
      },
      "execution_count": 196,
      "outputs": []
    },
    {
      "cell_type": "code",
      "source": [
        "resp_insuff_df = pd.DataFrame(data=data, columns=columns)"
      ],
      "metadata": {
        "id": "V1p2NwZQzNnt"
      },
      "execution_count": 197,
      "outputs": []
    },
    {
      "cell_type": "code",
      "source": [
        "resp_insuff_df"
      ],
      "metadata": {
        "colab": {
          "base_uri": "https://localhost:8080/",
          "height": 81
        },
        "id": "m-q3QaW4zQj0",
        "outputId": "409e9592-5154-4819-c1e6-6f8052fc5b08"
      },
      "execution_count": 198,
      "outputs": [
        {
          "output_type": "execute_result",
          "data": {
            "text/plain": [
              "   UnvaccRespInsuff  BaselineUnvacc\n",
              "0            4046.0         10880.0"
            ],
            "text/html": [
              "\n",
              "  <div id=\"df-467b348d-e9f4-4d62-8674-55e755486e06\">\n",
              "    <div class=\"colab-df-container\">\n",
              "      <div>\n",
              "<style scoped>\n",
              "    .dataframe tbody tr th:only-of-type {\n",
              "        vertical-align: middle;\n",
              "    }\n",
              "\n",
              "    .dataframe tbody tr th {\n",
              "        vertical-align: top;\n",
              "    }\n",
              "\n",
              "    .dataframe thead th {\n",
              "        text-align: right;\n",
              "    }\n",
              "</style>\n",
              "<table border=\"1\" class=\"dataframe\">\n",
              "  <thead>\n",
              "    <tr style=\"text-align: right;\">\n",
              "      <th></th>\n",
              "      <th>UnvaccRespInsuff</th>\n",
              "      <th>BaselineUnvacc</th>\n",
              "    </tr>\n",
              "  </thead>\n",
              "  <tbody>\n",
              "    <tr>\n",
              "      <th>0</th>\n",
              "      <td>4046.0</td>\n",
              "      <td>10880.0</td>\n",
              "    </tr>\n",
              "  </tbody>\n",
              "</table>\n",
              "</div>\n",
              "      <button class=\"colab-df-convert\" onclick=\"convertToInteractive('df-467b348d-e9f4-4d62-8674-55e755486e06')\"\n",
              "              title=\"Convert this dataframe to an interactive table.\"\n",
              "              style=\"display:none;\">\n",
              "        \n",
              "  <svg xmlns=\"http://www.w3.org/2000/svg\" height=\"24px\"viewBox=\"0 0 24 24\"\n",
              "       width=\"24px\">\n",
              "    <path d=\"M0 0h24v24H0V0z\" fill=\"none\"/>\n",
              "    <path d=\"M18.56 5.44l.94 2.06.94-2.06 2.06-.94-2.06-.94-.94-2.06-.94 2.06-2.06.94zm-11 1L8.5 8.5l.94-2.06 2.06-.94-2.06-.94L8.5 2.5l-.94 2.06-2.06.94zm10 10l.94 2.06.94-2.06 2.06-.94-2.06-.94-.94-2.06-.94 2.06-2.06.94z\"/><path d=\"M17.41 7.96l-1.37-1.37c-.4-.4-.92-.59-1.43-.59-.52 0-1.04.2-1.43.59L10.3 9.45l-7.72 7.72c-.78.78-.78 2.05 0 2.83L4 21.41c.39.39.9.59 1.41.59.51 0 1.02-.2 1.41-.59l7.78-7.78 2.81-2.81c.8-.78.8-2.07 0-2.86zM5.41 20L4 18.59l7.72-7.72 1.47 1.35L5.41 20z\"/>\n",
              "  </svg>\n",
              "      </button>\n",
              "      \n",
              "  <style>\n",
              "    .colab-df-container {\n",
              "      display:flex;\n",
              "      flex-wrap:wrap;\n",
              "      gap: 12px;\n",
              "    }\n",
              "\n",
              "    .colab-df-convert {\n",
              "      background-color: #E8F0FE;\n",
              "      border: none;\n",
              "      border-radius: 50%;\n",
              "      cursor: pointer;\n",
              "      display: none;\n",
              "      fill: #1967D2;\n",
              "      height: 32px;\n",
              "      padding: 0 0 0 0;\n",
              "      width: 32px;\n",
              "    }\n",
              "\n",
              "    .colab-df-convert:hover {\n",
              "      background-color: #E2EBFA;\n",
              "      box-shadow: 0px 1px 2px rgba(60, 64, 67, 0.3), 0px 1px 3px 1px rgba(60, 64, 67, 0.15);\n",
              "      fill: #174EA6;\n",
              "    }\n",
              "\n",
              "    [theme=dark] .colab-df-convert {\n",
              "      background-color: #3B4455;\n",
              "      fill: #D2E3FC;\n",
              "    }\n",
              "\n",
              "    [theme=dark] .colab-df-convert:hover {\n",
              "      background-color: #434B5C;\n",
              "      box-shadow: 0px 1px 3px 1px rgba(0, 0, 0, 0.15);\n",
              "      filter: drop-shadow(0px 1px 2px rgba(0, 0, 0, 0.3));\n",
              "      fill: #FFFFFF;\n",
              "    }\n",
              "  </style>\n",
              "\n",
              "      <script>\n",
              "        const buttonEl =\n",
              "          document.querySelector('#df-467b348d-e9f4-4d62-8674-55e755486e06 button.colab-df-convert');\n",
              "        buttonEl.style.display =\n",
              "          google.colab.kernel.accessAllowed ? 'block' : 'none';\n",
              "\n",
              "        async function convertToInteractive(key) {\n",
              "          const element = document.querySelector('#df-467b348d-e9f4-4d62-8674-55e755486e06');\n",
              "          const dataTable =\n",
              "            await google.colab.kernel.invokeFunction('convertToInteractive',\n",
              "                                                     [key], {});\n",
              "          if (!dataTable) return;\n",
              "\n",
              "          const docLinkHtml = 'Like what you see? Visit the ' +\n",
              "            '<a target=\"_blank\" href=https://colab.research.google.com/notebooks/data_table.ipynb>data table notebook</a>'\n",
              "            + ' to learn more about interactive tables.';\n",
              "          element.innerHTML = '';\n",
              "          dataTable['output_type'] = 'display_data';\n",
              "          await google.colab.output.renderOutput(dataTable, element);\n",
              "          const docLink = document.createElement('div');\n",
              "          docLink.innerHTML = docLinkHtml;\n",
              "          element.appendChild(docLink);\n",
              "        }\n",
              "      </script>\n",
              "    </div>\n",
              "  </div>\n",
              "  "
            ]
          },
          "metadata": {},
          "execution_count": 198
        }
      ]
    },
    {
      "cell_type": "code",
      "source": [
        "plt.figure(figsize=(12, 6))\n",
        "sns.barplot(data=resp_insuff_df, palette=(\"#CAAE95\", \"grey\"))\n",
        "plt.plot()"
      ],
      "metadata": {
        "colab": {
          "base_uri": "https://localhost:8080/",
          "height": 392
        },
        "id": "ZpHKDMkqzRYm",
        "outputId": "a84f061a-b93f-426e-9133-75fcf76ad205"
      },
      "execution_count": 199,
      "outputs": [
        {
          "output_type": "execute_result",
          "data": {
            "text/plain": [
              "[]"
            ]
          },
          "metadata": {},
          "execution_count": 199
        },
        {
          "output_type": "display_data",
          "data": {
            "text/plain": [
              "<Figure size 864x432 with 1 Axes>"
            ],
            "image/png": "[encoded data removed]"
          },
          "metadata": {
            "needs_background": "light"
          }
        }
      ]
    },
    {
      "cell_type": "code",
      "source": [
        "print(str(resp_insuff_df.iloc[0, 0] / resp_insuff_df.iloc[0, 1] * 100) + \"% of total unvaccinated hospitilizations led to respiratory insufficiency\")"
      ],
      "metadata": {
        "colab": {
          "base_uri": "https://localhost:8080/"
        },
        "id": "CNSlo5BAzXkj",
        "outputId": "8cc1a3bf-97f3-4897-a594-a70ce0335700"
      },
      "execution_count": 201,
      "outputs": [
        {
          "output_type": "stream",
          "name": "stdout",
          "text": [
            "37.1875% of total unvaccinated hospitilizations led to respiratory insufficiency\n"
          ]
        }
      ]
    },
    {
      "cell_type": "code",
      "source": [],
      "metadata": {
        "id": "BRJzQutvzbZT"
      },
      "execution_count": null,
      "outputs": []
    }
  ]
}